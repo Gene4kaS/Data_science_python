{
 "cells": [
  {
   "cell_type": "code",
   "execution_count": 1,
   "metadata": {},
   "outputs": [
    {
     "name": "stdout",
     "output_type": "stream",
     "text": [
      "[[10000.]\n",
      " [25000.]\n",
      " [15000.]]\n"
     ]
    }
   ],
   "source": [
    "import numpy as np\n",
    "\n",
    "# 1.\n",
    "\n",
    "a = np.matrix(\"0.05,0.07,0;0.05,0,0.06;1,1,1\")\n",
    "b = np.matrix(\"2250;1400;50000\")\n",
    "x = np.linalg.solve(a, b)\n",
    "print(x)\n"
   ]
  },
  {
   "cell_type": "code",
   "execution_count": 7,
   "metadata": {},
   "outputs": [
    {
     "name": "stdout",
     "output_type": "stream",
     "text": [
      "[[436.]\n",
      " [556.]\n",
      " [336.]]\n"
     ]
    }
   ],
   "source": [
    "import numpy as np\n",
    "\n",
    "# 2.\n",
    "\n",
    "a = np.matrix(\"1,1,1;-1,1,0;1,0,-1\")\n",
    "b = np.matrix(\"1328;120;100\")\n",
    "x = np.linalg.solve(a, b)\n",
    "print(x)"
   ]
  },
  {
   "cell_type": "code",
   "execution_count": 9,
   "metadata": {},
   "outputs": [
    {
     "name": "stdout",
     "output_type": "stream",
     "text": [
      "[[-6.00000001]\n",
      " [ 0.        ]\n",
      " [ 3.        ]]\n"
     ]
    }
   ],
   "source": [
    "import numpy as np\n",
    "\n",
    "# 3.\n",
    "\n",
    "a = np.matrix(\"0.333333333,0.166666667,1;0,0.25,0.333333333;0.333333333,0,1\")\n",
    "b = np.matrix(\"1;1;1\")\n",
    "x = np.linalg.solve(a, b)\n",
    "print(x)\n"
   ]
  },
  {
   "cell_type": "code",
   "execution_count": 10,
   "metadata": {},
   "outputs": [
    {
     "name": "stdout",
     "output_type": "stream",
     "text": [
      "[[4.]\n",
      " [5.]\n",
      " [3.]]\n"
     ]
    }
   ],
   "source": [
    "import numpy as np\n",
    "\n",
    "# 4.\n",
    "\n",
    "a = np.matrix(\"1,1,1;9,3,1;1,-1,1\")\n",
    "b = np.matrix(\"12;54;2\")\n",
    "x = np.linalg.solve(a, b)\n",
    "print(x)\n"
   ]
  },
  {
   "cell_type": "code",
   "execution_count": 5,
   "metadata": {},
   "outputs": [
    {
     "name": "stdout",
     "output_type": "stream",
     "text": [
      "[3. 5. 4.]\n"
     ]
    }
   ],
   "source": [
    "import numpy as np\n",
    "\n",
    "# 5.\n",
    "\n",
    "def get_polynom(coords):\n",
    "    n = len(coords) - 1\n",
    "    a = []\n",
    "    b = []\n",
    "    for i in range(n + 1):\n",
    "        row = []\n",
    "        for j in range(n + 1):\n",
    "            row.append(coords[i][0] ** j)\n",
    "        a.append(row)\n",
    "        b.append(coords[i][1])\n",
    "    return np.linalg.solve(a,b)\n",
    "\n",
    "\n",
    "coords = [(1, 12), (3, 54), (-1, 2)]\n",
    "print(get_polynom(coords))"
   ]
  }
 ],
 "metadata": {
  "kernelspec": {
   "display_name": "Python 3",
   "language": "python",
   "name": "python3"
  },
  "language_info": {
   "codemirror_mode": {
    "name": "ipython",
    "version": 3
   },
   "file_extension": ".py",
   "mimetype": "text/x-python",
   "name": "python",
   "nbconvert_exporter": "python",
   "pygments_lexer": "ipython3",
   "version": "3.10.5"
  }
 },
 "nbformat": 4,
 "nbformat_minor": 2
}
