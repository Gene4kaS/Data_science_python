{
 "cells": [
  {
   "cell_type": "code",
   "execution_count": 2,
   "metadata": {},
   "outputs": [
    {
     "data": {
      "image/png": "[encoded data removed]",
      "text/plain": [
       "<Figure size 576x576 with 1 Axes>"
      ]
     },
     "metadata": {
      "needs_background": "light"
     },
     "output_type": "display_data"
    }
   ],
   "source": [
    "import matplotlib.pyplot as plt\n",
    "import numpy as np\n",
    "\n",
    "# Рекурсивна функція для побудови візерунка Серпінського\n",
    "def sierpinski(x, y, size, depth):\n",
    "    if depth > 0:\n",
    "        sierpinski(x, y, size / 2, depth - 1)\n",
    "        sierpinski(x + size / 2, y, size / 2, depth - 1)\n",
    "        sierpinski(x + size / 4, y + size * np.sqrt(3) / 4, size / 2, depth - 1)\n",
    "    else:\n",
    "        plt.scatter(x, y, s=1, color='black')\n",
    "\n",
    "# Налаштування вікна та ручки\n",
    "plt.figure(figsize=(8, 8))\n",
    "plt.axis('equal')\n",
    "plt.axis('off')\n",
    "\n",
    "# Побудова візерунка Серпінського\n",
    "sierpinski(0, 0, 1, 6)\n",
    "\n",
    "# Виведення діаграми\n",
    "plt.show()"
   ]
  }
 ],
 "metadata": {
  "kernelspec": {
   "display_name": "Python 3",
   "language": "python",
   "name": "python3"
  },
  "language_info": {
   "codemirror_mode": {
    "name": "ipython",
    "version": 3
   },
   "file_extension": ".py",
   "mimetype": "text/x-python",
   "name": "python",
   "nbconvert_exporter": "python",
   "pygments_lexer": "ipython3",
   "version": "3.6.8"
  }
 },
 "nbformat": 4,
 "nbformat_minor": 2
}
