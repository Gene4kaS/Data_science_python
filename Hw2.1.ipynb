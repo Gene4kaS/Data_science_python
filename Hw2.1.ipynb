{
 "cells": [
  {
   "cell_type": "code",
   "execution_count": 172,
   "metadata": {},
   "outputs": [],
   "source": [
    "import pandas as pd\n",
    "import numpy as np\n",
    "import matplotlib.pyplot as plt\n",
    "import seaborn as sns"
   ]
  },
  {
   "cell_type": "code",
   "execution_count": 173,
   "metadata": {},
   "outputs": [
    {
     "name": "stdout",
     "output_type": "stream",
     "text": [
      "               Регіон  1950  1960  1970  1990  2000  2012  2014  2019\n",
      "0                Крим  23.0  20.6  16.0  13.0   7.3  12.6     —     —\n",
      "1           Вінницька  22.4  19.2  14.2  12.4   8.4  11.2  10.9   7.6\n",
      "2           Волинська  24.7  25.0  17.9  15.3  11.2  14.8  14.1  10.1\n",
      "3    Дніпропетровська  20.4  20.4  15.1  12.3   7.1  11.2  11.1   7.1\n",
      "4            Донецька  27.1  21.4  14.0  10.9   6.1   9.8   8.2     —\n",
      "5         Житомирська  26.1  22.3  15.9  12.9   8.9  12.2  12.0   7.9\n",
      "6        Закарпатська  31.4  27.3  20.7  16.8  11.5  15.1  14.6  10.4\n",
      "7          Запорізька  21.9  19.7  15.0  12.4   7.1  10.6  10.6   6.8\n",
      "8   Івано-Франківська  24.3  24.8  18.2  15.5  10.3  12.4  12.2   8.8\n",
      "9            Київська  20.4  18.9  15.6  12.3   7.3  12.2  12.1   8.0\n",
      "10     Кіровоградська  21.6  17.1  14.5  12.6   7.9  11.0  10.8   6.8\n",
      "11          Луганська  26.2  23.5  14.4  11.6   6.2   9.6   5.1     —\n",
      "12          Львівська  23.4  24.0  17.1  14.0   9.1  11.9  11.9   8.7\n",
      "13       Миколаївська  21.1  19.4  15.5  13.7   8.0  11.5  11.2   7.1\n",
      "14            Одеська  24.1  19.2  14.8  12.6   8.0  12.7  12.3   8.8\n",
      "15         Полтавська  18.6  16.3  13.1  11.8   7.0   9.9  10.0   6.5\n",
      "16         Рівненська  26.9  26.7  19.3  15.8  11.8  15.9  14.8  10.7\n",
      "17            Сумська  21.6  18.4  13.2  11.5   7.0   9.7   9.2   6.0\n",
      "18      Тернопільська  21.3  21.6  15.7  14.2   9.2  11.3  10.9   7.6\n",
      "19         Харківська  19.7  17.3  14.0  11.4   6.8   9.9  10.1   6.8\n",
      "20         Херсонська  20.8  21.4  16.6  14.3   8.5  11.7  11.5   8.1\n",
      "21        Хмельницька  23.4  19.8  14.8  12.9   8.5  11.3  11.2   7.9\n",
      "22          Черкаська  20.5  17.9  14.4  12.3   7.5  10.0   9.8   6.4\n",
      "23        Чернівецька  24.7  21.8  17.0  14.8  10.1  12.8  12.9   9.2\n",
      "24       Чернігівська  22.0  18.3  12.7  10.8   6.9   9.4   9.0   6.1\n",
      "25               Київ   NaN  17.4  15.9  12.0   7.3  12.0  12.1  11.0\n",
      "26        Севастополь   NaN   NaN   NaN  12.5   7.0  12.0     —     —\n",
      "27            Україна  22.8  20.5  15.2  12.6   7.8  11.4  11.1   8.1\n"
     ]
    }
   ],
   "source": [
    "url = 'https://uk.wikipedia.org/wiki/%D0%9D%D0%B0%D1%81%D0%B5%D0%BB%D0%B5%D0%BD%D0%BD%D1%8F_%D0%A3%D0%BA%D1%80%D0%B0%D1%97%D0%BD%D0%B8#%D0%9D%D0%B0%D1%80%D0%BE%D0%B4%D0%B6%D1%83%D0%B2%D0%B0%D0%BD%D1%96%D1%81%D1%82%D1%8C'\n",
    "data = pd.read_html(url, match='Коефіцієнт народжуваності в регіонах України', thousands=\".\", decimal=\",\")[0]\n",
    "print(data)"
   ]
  },
  {
   "cell_type": "code",
   "execution_count": 174,
   "metadata": {},
   "outputs": [
    {
     "name": "stdout",
     "output_type": "stream",
     "text": [
      "             Регіон  1950  1960  1970  1990  2000  2012  2014  2019\n",
      "0              Крим  23.0  20.6  16.0  13.0   7.3  12.6     —     —\n",
      "1         Вінницька  22.4  19.2  14.2  12.4   8.4  11.2  10.9   7.6\n",
      "2         Волинська  24.7  25.0  17.9  15.3  11.2  14.8  14.1  10.1\n",
      "3  Дніпропетровська  20.4  20.4  15.1  12.3   7.1  11.2  11.1   7.1\n",
      "4          Донецька  27.1  21.4  14.0  10.9   6.1   9.8   8.2     —\n"
     ]
    }
   ],
   "source": [
    "# Вивести перші рядки таблиці за допомогою методу head\n",
    "print(data.head())"
   ]
  },
  {
   "cell_type": "code",
   "execution_count": 175,
   "metadata": {},
   "outputs": [
    {
     "name": "stdout",
     "output_type": "stream",
     "text": [
      "(28, 9)\n"
     ]
    }
   ],
   "source": [
    "# Визначте кількість рядків та стовпців у датафреймі (атрибут shape)\n",
    "data_frame = pd.DataFrame(data)\n",
    "print(data_frame.shape)"
   ]
  },
  {
   "cell_type": "code",
   "execution_count": 176,
   "metadata": {},
   "outputs": [
    {
     "name": "stdout",
     "output_type": "stream",
     "text": [
      "               Регіон  1950  1960  1970  1990  2000  2012  2014  2019\n",
      "0                Крим  23.0  20.6  16.0  13.0   7.3  12.6   NaN   NaN\n",
      "1           Вінницька  22.4  19.2  14.2  12.4   8.4  11.2  10.9   7.6\n",
      "2           Волинська  24.7  25.0  17.9  15.3  11.2  14.8  14.1  10.1\n",
      "3    Дніпропетровська  20.4  20.4  15.1  12.3   7.1  11.2  11.1   7.1\n",
      "4            Донецька  27.1  21.4  14.0  10.9   6.1   9.8   8.2   NaN\n",
      "5         Житомирська  26.1  22.3  15.9  12.9   8.9  12.2  12.0   7.9\n",
      "6        Закарпатська  31.4  27.3  20.7  16.8  11.5  15.1  14.6  10.4\n",
      "7          Запорізька  21.9  19.7  15.0  12.4   7.1  10.6  10.6   6.8\n",
      "8   Івано-Франківська  24.3  24.8  18.2  15.5  10.3  12.4  12.2   8.8\n",
      "9            Київська  20.4  18.9  15.6  12.3   7.3  12.2  12.1   8.0\n",
      "10     Кіровоградська  21.6  17.1  14.5  12.6   7.9  11.0  10.8   6.8\n",
      "11          Луганська  26.2  23.5  14.4  11.6   6.2   9.6   5.1   NaN\n",
      "12          Львівська  23.4  24.0  17.1  14.0   9.1  11.9  11.9   8.7\n",
      "13       Миколаївська  21.1  19.4  15.5  13.7   8.0  11.5  11.2   7.1\n",
      "14            Одеська  24.1  19.2  14.8  12.6   8.0  12.7  12.3   8.8\n",
      "15         Полтавська  18.6  16.3  13.1  11.8   7.0   9.9  10.0   6.5\n",
      "16         Рівненська  26.9  26.7  19.3  15.8  11.8  15.9  14.8  10.7\n",
      "17            Сумська  21.6  18.4  13.2  11.5   7.0   9.7   9.2   6.0\n",
      "18      Тернопільська  21.3  21.6  15.7  14.2   9.2  11.3  10.9   7.6\n",
      "19         Харківська  19.7  17.3  14.0  11.4   6.8   9.9  10.1   6.8\n",
      "20         Херсонська  20.8  21.4  16.6  14.3   8.5  11.7  11.5   8.1\n",
      "21        Хмельницька  23.4  19.8  14.8  12.9   8.5  11.3  11.2   7.9\n",
      "22          Черкаська  20.5  17.9  14.4  12.3   7.5  10.0   9.8   6.4\n",
      "23        Чернівецька  24.7  21.8  17.0  14.8  10.1  12.8  12.9   9.2\n",
      "24       Чернігівська  22.0  18.3  12.7  10.8   6.9   9.4   9.0   6.1\n",
      "25               Київ   NaN  17.4  15.9  12.0   7.3  12.0  12.1  11.0\n",
      "26        Севастополь   NaN   NaN   NaN  12.5   7.0  12.0   NaN   NaN\n",
      "27            Україна  22.8  20.5  15.2  12.6   7.8  11.4  11.1   8.1\n"
     ]
    }
   ],
   "source": [
    "# Замініть у таблиці значення \"—\" на значення NaN\n",
    "data_nan = data_frame.replace(to_replace=r'—', value='NaN', regex=True)\n",
    "print(data_nan)"
   ]
  },
  {
   "cell_type": "code",
   "execution_count": 177,
   "metadata": {},
   "outputs": [
    {
     "data": {
      "text/plain": [
       "Регіон     object\n",
       "1950      float64\n",
       "1960      float64\n",
       "1970      float64\n",
       "1990      float64\n",
       "2000      float64\n",
       "2012      float64\n",
       "2014       object\n",
       "2019       object\n",
       "dtype: object"
      ]
     },
     "execution_count": 177,
     "metadata": {},
     "output_type": "execute_result"
    }
   ],
   "source": [
    "# Визначте типи всіх стовпців за допомогою dataframe.dtypes\n",
    "data.dtypes"
   ]
  },
  {
   "cell_type": "code",
   "execution_count": 178,
   "metadata": {},
   "outputs": [
    {
     "name": "stdout",
     "output_type": "stream",
     "text": [
      "               Регіон  1950  1960  1970  1990  2000  2012  2014  2019\n",
      "0                Крим  23.0  20.6  16.0  13.0   7.3  12.6     0     0\n",
      "1           Вінницька  22.4  19.2  14.2  12.4   8.4  11.2  10.9   7.6\n",
      "2           Волинська  24.7  25.0  17.9  15.3  11.2  14.8  14.1  10.1\n",
      "3    Дніпропетровська  20.4  20.4  15.1  12.3   7.1  11.2  11.1   7.1\n",
      "4            Донецька  27.1  21.4  14.0  10.9   6.1   9.8   8.2     0\n",
      "5         Житомирська  26.1  22.3  15.9  12.9   8.9  12.2  12.0   7.9\n",
      "6        Закарпатська  31.4  27.3  20.7  16.8  11.5  15.1  14.6  10.4\n",
      "7          Запорізька  21.9  19.7  15.0  12.4   7.1  10.6  10.6   6.8\n",
      "8   Івано-Франківська  24.3  24.8  18.2  15.5  10.3  12.4  12.2   8.8\n",
      "9            Київська  20.4  18.9  15.6  12.3   7.3  12.2  12.1   8.0\n",
      "10     Кіровоградська  21.6  17.1  14.5  12.6   7.9  11.0  10.8   6.8\n",
      "11          Луганська  26.2  23.5  14.4  11.6   6.2   9.6   5.1     0\n",
      "12          Львівська  23.4  24.0  17.1  14.0   9.1  11.9  11.9   8.7\n",
      "13       Миколаївська  21.1  19.4  15.5  13.7   8.0  11.5  11.2   7.1\n",
      "14            Одеська  24.1  19.2  14.8  12.6   8.0  12.7  12.3   8.8\n",
      "15         Полтавська  18.6  16.3  13.1  11.8   7.0   9.9  10.0   6.5\n",
      "16         Рівненська  26.9  26.7  19.3  15.8  11.8  15.9  14.8  10.7\n",
      "17            Сумська  21.6  18.4  13.2  11.5   7.0   9.7   9.2   6.0\n",
      "18      Тернопільська  21.3  21.6  15.7  14.2   9.2  11.3  10.9   7.6\n",
      "19         Харківська  19.7  17.3  14.0  11.4   6.8   9.9  10.1   6.8\n",
      "20         Херсонська  20.8  21.4  16.6  14.3   8.5  11.7  11.5   8.1\n",
      "21        Хмельницька  23.4  19.8  14.8  12.9   8.5  11.3  11.2   7.9\n",
      "22          Черкаська  20.5  17.9  14.4  12.3   7.5  10.0   9.8   6.4\n",
      "23        Чернівецька  24.7  21.8  17.0  14.8  10.1  12.8  12.9   9.2\n",
      "24       Чернігівська  22.0  18.3  12.7  10.8   6.9   9.4   9.0   6.1\n",
      "25               Київ   NaN  17.4  15.9  12.0   7.3  12.0  12.1  11.0\n",
      "26        Севастополь   NaN   NaN   NaN  12.5   7.0  12.0     0     0\n",
      "27            Україна  22.8  20.5  15.2  12.6   7.8  11.4  11.1   8.1\n"
     ]
    }
   ],
   "source": [
    "# Замініть типи нечислових колонок на числові. Підказка - це колонки, де знаходився символ \"—\"\n",
    "data_number = data_frame.replace(to_replace=r'—', value=0, regex=True)\n",
    "print(data_number)"
   ]
  },
  {
   "cell_type": "code",
   "execution_count": 179,
   "metadata": {},
   "outputs": [
    {
     "name": "stdout",
     "output_type": "stream",
     "text": [
      "Регіон    0.000000\n",
      "1950      0.071429\n",
      "1960      0.035714\n",
      "1970      0.035714\n",
      "1990      0.000000\n",
      "2000      0.000000\n",
      "2012      0.000000\n",
      "2014      0.000000\n",
      "2019      0.000000\n",
      "dtype: float64\n"
     ]
    }
   ],
   "source": [
    "# Порахуйте, яка частка пропусків міститься в кожній колонці (використовуйте методи isnull та sum)\n",
    "data_isnull = data.isnull().sum() / len(data)\n",
    "print(data_isnull)"
   ]
  },
  {
   "cell_type": "code",
   "execution_count": 180,
   "metadata": {},
   "outputs": [
    {
     "name": "stdout",
     "output_type": "stream",
     "text": [
      "               Регіон  1950  1960  1970  1990  2000  2012  2014  2019\n",
      "0                Крим  23.0  20.6  16.0  13.0   7.3  12.6     0     0\n",
      "1           Вінницька  22.4  19.2  14.2  12.4   8.4  11.2  10.9   7.6\n",
      "2           Волинська  24.7  25.0  17.9  15.3  11.2  14.8  14.1  10.1\n",
      "3    Дніпропетровська  20.4  20.4  15.1  12.3   7.1  11.2  11.1   7.1\n",
      "4            Донецька  27.1  21.4  14.0  10.9   6.1   9.8   8.2     0\n",
      "5         Житомирська  26.1  22.3  15.9  12.9   8.9  12.2  12.0   7.9\n",
      "6        Закарпатська  31.4  27.3  20.7  16.8  11.5  15.1  14.6  10.4\n",
      "7          Запорізька  21.9  19.7  15.0  12.4   7.1  10.6  10.6   6.8\n",
      "8   Івано-Франківська  24.3  24.8  18.2  15.5  10.3  12.4  12.2   8.8\n",
      "9            Київська  20.4  18.9  15.6  12.3   7.3  12.2  12.1   8.0\n",
      "10     Кіровоградська  21.6  17.1  14.5  12.6   7.9  11.0  10.8   6.8\n",
      "11          Луганська  26.2  23.5  14.4  11.6   6.2   9.6   5.1     0\n",
      "12          Львівська  23.4  24.0  17.1  14.0   9.1  11.9  11.9   8.7\n",
      "13       Миколаївська  21.1  19.4  15.5  13.7   8.0  11.5  11.2   7.1\n",
      "14            Одеська  24.1  19.2  14.8  12.6   8.0  12.7  12.3   8.8\n",
      "15         Полтавська  18.6  16.3  13.1  11.8   7.0   9.9  10.0   6.5\n",
      "16         Рівненська  26.9  26.7  19.3  15.8  11.8  15.9  14.8  10.7\n",
      "17            Сумська  21.6  18.4  13.2  11.5   7.0   9.7   9.2   6.0\n",
      "18      Тернопільська  21.3  21.6  15.7  14.2   9.2  11.3  10.9   7.6\n",
      "19         Харківська  19.7  17.3  14.0  11.4   6.8   9.9  10.1   6.8\n",
      "20         Херсонська  20.8  21.4  16.6  14.3   8.5  11.7  11.5   8.1\n",
      "21        Хмельницька  23.4  19.8  14.8  12.9   8.5  11.3  11.2   7.9\n",
      "22          Черкаська  20.5  17.9  14.4  12.3   7.5  10.0   9.8   6.4\n",
      "23        Чернівецька  24.7  21.8  17.0  14.8  10.1  12.8  12.9   9.2\n",
      "24       Чернігівська  22.0  18.3  12.7  10.8   6.9   9.4   9.0   6.1\n",
      "25               Київ   NaN  17.4  15.9  12.0   7.3  12.0  12.1  11.0\n",
      "26        Севастополь   NaN   NaN   NaN  12.5   7.0  12.0     0     0\n"
     ]
    }
   ],
   "source": [
    "# Видаліть з таблиці дані по всій країні, останній рядок таблиці\n",
    "data_total_delete = data_number.drop(index=data_number.index[-1])\n",
    "print(data_total_delete)"
   ]
  },
  {
   "cell_type": "code",
   "execution_count": 181,
   "metadata": {},
   "outputs": [
    {
     "name": "stdout",
     "output_type": "stream",
     "text": [
      "               Регіон    1950       1960  1970  1990  2000  2012  2014  2019\n",
      "0                Крим  23.000  20.600000  16.0  13.0   7.3  12.6     0     0\n",
      "1           Вінницька  22.400  19.200000  14.2  12.4   8.4  11.2  10.9   7.6\n",
      "2           Волинська  24.700  25.000000  17.9  15.3  11.2  14.8  14.1  10.1\n",
      "3    Дніпропетровська  20.400  20.400000  15.1  12.3   7.1  11.2  11.1   7.1\n",
      "4            Донецька  27.100  21.400000  14.0  10.9   6.1   9.8   8.2     0\n",
      "5         Житомирська  26.100  22.300000  15.9  12.9   8.9  12.2  12.0   7.9\n",
      "6        Закарпатська  31.400  27.300000  20.7  16.8  11.5  15.1  14.6  10.4\n",
      "7          Запорізька  21.900  19.700000  15.0  12.4   7.1  10.6  10.6   6.8\n",
      "8   Івано-Франківська  24.300  24.800000  18.2  15.5  10.3  12.4  12.2   8.8\n",
      "9            Київська  20.400  18.900000  15.6  12.3   7.3  12.2  12.1   8.0\n",
      "10     Кіровоградська  21.600  17.100000  14.5  12.6   7.9  11.0  10.8   6.8\n",
      "11          Луганська  26.200  23.500000  14.4  11.6   6.2   9.6   5.1     0\n",
      "12          Львівська  23.400  24.000000  17.1  14.0   9.1  11.9  11.9   8.7\n",
      "13       Миколаївська  21.100  19.400000  15.5  13.7   8.0  11.5  11.2   7.1\n",
      "14            Одеська  24.100  19.200000  14.8  12.6   8.0  12.7  12.3   8.8\n",
      "15         Полтавська  18.600  16.300000  13.1  11.8   7.0   9.9  10.0   6.5\n",
      "16         Рівненська  26.900  26.700000  19.3  15.8  11.8  15.9  14.8  10.7\n",
      "17            Сумська  21.600  18.400000  13.2  11.5   7.0   9.7   9.2   6.0\n",
      "18      Тернопільська  21.300  21.600000  15.7  14.2   9.2  11.3  10.9   7.6\n",
      "19         Харківська  19.700  17.300000  14.0  11.4   6.8   9.9  10.1   6.8\n",
      "20         Херсонська  20.800  21.400000  16.6  14.3   8.5  11.7  11.5   8.1\n",
      "21        Хмельницька  23.400  19.800000  14.8  12.9   8.5  11.3  11.2   7.9\n",
      "22          Черкаська  20.500  17.900000  14.4  12.3   7.5  10.0   9.8   6.4\n",
      "23        Чернівецька  24.700  21.800000  17.0  14.8  10.1  12.8  12.9   9.2\n",
      "24       Чернігівська  22.000  18.300000  12.7  10.8   6.9   9.4   9.0   6.1\n",
      "25               Київ  23.104  17.400000  15.9  12.0   7.3  12.0  12.1  11.0\n",
      "26        Севастополь  23.104  20.757692  15.6  12.5   7.0  12.0     0     0\n"
     ]
    }
   ],
   "source": [
    "# Замініть відсутні дані в стовпцях середніми значеннями цих стовпців (метод fillna)\n",
    "data_mean = data_total_delete.fillna(data_total_delete.mean())\n",
    "print(data_mean)"
   ]
  },
  {
   "cell_type": "code",
   "execution_count": null,
   "metadata": {},
   "outputs": [],
   "source": [
    "# Отримайте список регіонів, де рівень народжуваності у 2019 році був вищим за середній по Україні\n",
    "avg = data['2019'].mean()\n",
    "data.loc[data['2019'] > avg]\n"
   ]
  },
  {
   "cell_type": "code",
   "execution_count": 183,
   "metadata": {},
   "outputs": [
    {
     "data": {
      "text/plain": [
       "0            Крим\n",
       "26    Севастополь\n",
       "Name: Регіон, dtype: object"
      ]
     },
     "execution_count": 183,
     "metadata": {},
     "output_type": "execute_result"
    }
   ],
   "source": [
    "# У якому регіоні була найвища народжуваність у 2014 році?\n",
    "max_value_region = data[data['2014'] == data['2014'].max()]['Регіон']\n",
    "max_value_region"
   ]
  },
  {
   "cell_type": "code",
   "execution_count": 184,
   "metadata": {},
   "outputs": [
    {
     "data": {
      "image/png": "[encoded data removed]",
      "text/plain": [
       "<Figure size 432x288 with 1 Axes>"
      ]
     },
     "metadata": {
      "needs_background": "light"
     },
     "output_type": "display_data"
    }
   ],
   "source": [
    "# Побудуйте стовпчикову діаграму народжуваності по регіонах у 2019 році\n",
    "plt.bar(data['Регіон'], data['2019'])\n",
    "plt.xlabel(\"Region\")\n",
    "plt.ylabel(\"Value\")\n",
    "plt.title(\"Chart of birth rates in Ukraine in 2019\", fontsize=15)\n",
    "\n",
    "plt.tick_params(labelrotation = 90)\n",
    "\n",
    "plt.show()"
   ]
  }
 ],
 "metadata": {
  "kernelspec": {
   "display_name": "Python 3",
   "language": "python",
   "name": "python3"
  },
  "language_info": {
   "codemirror_mode": {
    "name": "ipython",
    "version": 3
   },
   "file_extension": ".py",
   "mimetype": "text/x-python",
   "name": "python",
   "nbconvert_exporter": "python",
   "pygments_lexer": "ipython3",
   "version": "3.6.8"
  }
 },
 "nbformat": 4,
 "nbformat_minor": 2
}
