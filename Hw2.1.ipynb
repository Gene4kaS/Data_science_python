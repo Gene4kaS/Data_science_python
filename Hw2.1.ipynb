{
 "cells": [
  {
   "cell_type": "code",
   "execution_count": 59,
   "metadata": {},
   "outputs": [],
   "source": [
    "import pandas as pd"
   ]
  },
  {
   "cell_type": "code",
   "execution_count": 60,
   "metadata": {},
   "outputs": [],
   "source": [
    "url = 'https://uk.wikipedia.org/wiki/%D0%9D%D0%B0%D1%81%D0%B5%D0%BB%D0%B5%D0%BD%D0%BD%D1%8F_%D0%A3%D0%BA%D1%80%D0%B0%D1%97%D0%BD%D0%B8#%D0%9D%D0%B0%D1%80%D0%BE%D0%B4%D0%B6%D1%83%D0%B2%D0%B0%D0%BD%D1%96%D1%81%D1%82%D1%8C'"
   ]
  },
  {
   "cell_type": "code",
   "execution_count": 61,
   "metadata": {},
   "outputs": [],
   "source": [
    "data = pd.read_html(url, match='Коефіцієнт народжуваності в регіонах України', thousands=\".\", decimal=\",\")[0]"
   ]
  },
  {
   "cell_type": "code",
   "execution_count": 62,
   "metadata": {},
   "outputs": [],
   "source": [
    "data_frame = pd.DataFrame(data)"
   ]
  },
  {
   "cell_type": "code",
   "execution_count": 63,
   "metadata": {},
   "outputs": [],
   "source": [
    "data_nan = data_frame.replace(to_replace=r'—', value='NaN', regex=True)"
   ]
  },
  {
   "cell_type": "code",
   "execution_count": 64,
   "metadata": {},
   "outputs": [],
   "source": [
    "data_number = data_frame.replace(to_replace=r'—', value=0, regex=True)"
   ]
  },
  {
   "cell_type": "code",
   "execution_count": 65,
   "metadata": {},
   "outputs": [],
   "source": [
    "data_isnull = data.isnull().sum() / len(data)"
   ]
  },
  {
   "cell_type": "code",
   "execution_count": 66,
   "metadata": {},
   "outputs": [],
   "source": [
    "data_total_delete = data_number.drop(index=data_number.index[-1])"
   ]
  },
  {
   "cell_type": "code",
   "execution_count": 67,
   "metadata": {},
   "outputs": [],
   "source": [
    "data_mean = data_total_delete.fillna(data_total_delete.mean())"
   ]
  },
  {
   "cell_type": "code",
   "execution_count": 68,
   "metadata": {},
   "outputs": [
    {
     "ename": "TypeError",
     "evalue": "Could not convert —7.610.17.1—7.910.46.88.88.06.8—8.77.18.86.510.76.07.66.88.17.96.49.26.111.0—8.1 to numeric",
     "output_type": "error",
     "traceback": [
      "\u001b[1;31m---------------------------------------------------------------------------\u001b[0m",
      "\u001b[1;31mValueError\u001b[0m                                Traceback (most recent call last)",
      "\u001b[1;32mc:\\Users\\ysavchenko\\AppData\\Local\\Programs\\Python\\Python36\\lib\\site-packages\\pandas\\core\\nanops.py\u001b[0m in \u001b[0;36m_ensure_numeric\u001b[1;34m(x)\u001b[0m\n\u001b[0;32m   1426\u001b[0m         \u001b[1;32mtry\u001b[0m\u001b[1;33m:\u001b[0m\u001b[1;33m\u001b[0m\u001b[1;33m\u001b[0m\u001b[0m\n\u001b[1;32m-> 1427\u001b[1;33m             \u001b[0mx\u001b[0m \u001b[1;33m=\u001b[0m \u001b[0mfloat\u001b[0m\u001b[1;33m(\u001b[0m\u001b[0mx\u001b[0m\u001b[1;33m)\u001b[0m\u001b[1;33m\u001b[0m\u001b[1;33m\u001b[0m\u001b[0m\n\u001b[0m\u001b[0;32m   1428\u001b[0m         \u001b[1;32mexcept\u001b[0m \u001b[0mValueError\u001b[0m\u001b[1;33m:\u001b[0m\u001b[1;33m\u001b[0m\u001b[1;33m\u001b[0m\u001b[0m\n",
      "\u001b[1;31mValueError\u001b[0m: could not convert string to float: '—7.610.17.1—7.910.46.88.88.06.8—8.77.18.86.510.76.07.66.88.17.96.49.26.111.0—8.1'",
      "\nDuring handling of the above exception, another exception occurred:\n",
      "\u001b[1;31mValueError\u001b[0m                                Traceback (most recent call last)",
      "\u001b[1;32mc:\\Users\\ysavchenko\\AppData\\Local\\Programs\\Python\\Python36\\lib\\site-packages\\pandas\\core\\nanops.py\u001b[0m in \u001b[0;36m_ensure_numeric\u001b[1;34m(x)\u001b[0m\n\u001b[0;32m   1430\u001b[0m             \u001b[1;32mtry\u001b[0m\u001b[1;33m:\u001b[0m\u001b[1;33m\u001b[0m\u001b[1;33m\u001b[0m\u001b[0m\n\u001b[1;32m-> 1431\u001b[1;33m                 \u001b[0mx\u001b[0m \u001b[1;33m=\u001b[0m \u001b[0mcomplex\u001b[0m\u001b[1;33m(\u001b[0m\u001b[0mx\u001b[0m\u001b[1;33m)\u001b[0m\u001b[1;33m\u001b[0m\u001b[1;33m\u001b[0m\u001b[0m\n\u001b[0m\u001b[0;32m   1432\u001b[0m             \u001b[1;32mexcept\u001b[0m \u001b[0mValueError\u001b[0m \u001b[1;32mas\u001b[0m \u001b[0merr\u001b[0m\u001b[1;33m:\u001b[0m\u001b[1;33m\u001b[0m\u001b[1;33m\u001b[0m\u001b[0m\n",
      "\u001b[1;31mValueError\u001b[0m: complex() arg is a malformed string",
      "\nThe above exception was the direct cause of the following exception:\n",
      "\u001b[1;31mTypeError\u001b[0m                                 Traceback (most recent call last)",
      "\u001b[1;32m<ipython-input-68-d4ed7289b784>\u001b[0m in \u001b[0;36m<module>\u001b[1;34m\u001b[0m\n\u001b[1;32m----> 1\u001b[1;33m \u001b[0mavg\u001b[0m \u001b[1;33m=\u001b[0m \u001b[0mdata\u001b[0m\u001b[1;33m[\u001b[0m\u001b[1;34m'2019'\u001b[0m\u001b[1;33m]\u001b[0m\u001b[1;33m.\u001b[0m\u001b[0mmean\u001b[0m\u001b[1;33m(\u001b[0m\u001b[1;33m)\u001b[0m\u001b[1;33m\u001b[0m\u001b[1;33m\u001b[0m\u001b[0m\n\u001b[0m\u001b[0;32m      2\u001b[0m \u001b[0mresult_avg\u001b[0m \u001b[1;33m=\u001b[0m \u001b[0mdata\u001b[0m\u001b[1;33m.\u001b[0m\u001b[0mloc\u001b[0m\u001b[1;33m[\u001b[0m\u001b[0mdata\u001b[0m\u001b[1;33m[\u001b[0m\u001b[1;34m'2019'\u001b[0m\u001b[1;33m]\u001b[0m \u001b[1;33m>\u001b[0m \u001b[0mavg\u001b[0m\u001b[1;33m]\u001b[0m\u001b[1;33m\u001b[0m\u001b[1;33m\u001b[0m\u001b[0m\n",
      "\u001b[1;32mc:\\Users\\ysavchenko\\AppData\\Local\\Programs\\Python\\Python36\\lib\\site-packages\\pandas\\core\\generic.py\u001b[0m in \u001b[0;36mstat_func\u001b[1;34m(self, axis, skipna, level, numeric_only, **kwargs)\u001b[0m\n\u001b[0;32m  11473\u001b[0m             \u001b[1;32mreturn\u001b[0m \u001b[0mself\u001b[0m\u001b[1;33m.\u001b[0m\u001b[0m_agg_by_level\u001b[0m\u001b[1;33m(\u001b[0m\u001b[0mname\u001b[0m\u001b[1;33m,\u001b[0m \u001b[0maxis\u001b[0m\u001b[1;33m=\u001b[0m\u001b[0maxis\u001b[0m\u001b[1;33m,\u001b[0m \u001b[0mlevel\u001b[0m\u001b[1;33m=\u001b[0m\u001b[0mlevel\u001b[0m\u001b[1;33m,\u001b[0m \u001b[0mskipna\u001b[0m\u001b[1;33m=\u001b[0m\u001b[0mskipna\u001b[0m\u001b[1;33m)\u001b[0m\u001b[1;33m\u001b[0m\u001b[1;33m\u001b[0m\u001b[0m\n\u001b[0;32m  11474\u001b[0m         return self._reduce(\n\u001b[1;32m> 11475\u001b[1;33m             \u001b[0mfunc\u001b[0m\u001b[1;33m,\u001b[0m \u001b[0mname\u001b[0m\u001b[1;33m=\u001b[0m\u001b[0mname\u001b[0m\u001b[1;33m,\u001b[0m \u001b[0maxis\u001b[0m\u001b[1;33m=\u001b[0m\u001b[0maxis\u001b[0m\u001b[1;33m,\u001b[0m \u001b[0mskipna\u001b[0m\u001b[1;33m=\u001b[0m\u001b[0mskipna\u001b[0m\u001b[1;33m,\u001b[0m \u001b[0mnumeric_only\u001b[0m\u001b[1;33m=\u001b[0m\u001b[0mnumeric_only\u001b[0m\u001b[1;33m\u001b[0m\u001b[1;33m\u001b[0m\u001b[0m\n\u001b[0m\u001b[0;32m  11476\u001b[0m         )\n\u001b[0;32m  11477\u001b[0m \u001b[1;33m\u001b[0m\u001b[0m\n",
      "\u001b[1;32mc:\\Users\\ysavchenko\\AppData\\Local\\Programs\\Python\\Python36\\lib\\site-packages\\pandas\\core\\series.py\u001b[0m in \u001b[0;36m_reduce\u001b[1;34m(self, op, name, axis, skipna, numeric_only, filter_type, **kwds)\u001b[0m\n\u001b[0;32m   4247\u001b[0m                 )\n\u001b[0;32m   4248\u001b[0m             \u001b[1;32mwith\u001b[0m \u001b[0mnp\u001b[0m\u001b[1;33m.\u001b[0m\u001b[0merrstate\u001b[0m\u001b[1;33m(\u001b[0m\u001b[0mall\u001b[0m\u001b[1;33m=\u001b[0m\u001b[1;34m\"ignore\"\u001b[0m\u001b[1;33m)\u001b[0m\u001b[1;33m:\u001b[0m\u001b[1;33m\u001b[0m\u001b[1;33m\u001b[0m\u001b[0m\n\u001b[1;32m-> 4249\u001b[1;33m                 \u001b[1;32mreturn\u001b[0m \u001b[0mop\u001b[0m\u001b[1;33m(\u001b[0m\u001b[0mdelegate\u001b[0m\u001b[1;33m,\u001b[0m \u001b[0mskipna\u001b[0m\u001b[1;33m=\u001b[0m\u001b[0mskipna\u001b[0m\u001b[1;33m,\u001b[0m \u001b[1;33m**\u001b[0m\u001b[0mkwds\u001b[0m\u001b[1;33m)\u001b[0m\u001b[1;33m\u001b[0m\u001b[1;33m\u001b[0m\u001b[0m\n\u001b[0m\u001b[0;32m   4250\u001b[0m \u001b[1;33m\u001b[0m\u001b[0m\n\u001b[0;32m   4251\u001b[0m     \u001b[1;32mdef\u001b[0m \u001b[0m_reindex_indexer\u001b[0m\u001b[1;33m(\u001b[0m\u001b[0mself\u001b[0m\u001b[1;33m,\u001b[0m \u001b[0mnew_index\u001b[0m\u001b[1;33m,\u001b[0m \u001b[0mindexer\u001b[0m\u001b[1;33m,\u001b[0m \u001b[0mcopy\u001b[0m\u001b[1;33m)\u001b[0m\u001b[1;33m:\u001b[0m\u001b[1;33m\u001b[0m\u001b[1;33m\u001b[0m\u001b[0m\n",
      "\u001b[1;32mc:\\Users\\ysavchenko\\AppData\\Local\\Programs\\Python\\Python36\\lib\\site-packages\\pandas\\core\\nanops.py\u001b[0m in \u001b[0;36m_f\u001b[1;34m(*args, **kwargs)\u001b[0m\n\u001b[0;32m     69\u001b[0m             \u001b[1;32mtry\u001b[0m\u001b[1;33m:\u001b[0m\u001b[1;33m\u001b[0m\u001b[1;33m\u001b[0m\u001b[0m\n\u001b[0;32m     70\u001b[0m                 \u001b[1;32mwith\u001b[0m \u001b[0mnp\u001b[0m\u001b[1;33m.\u001b[0m\u001b[0merrstate\u001b[0m\u001b[1;33m(\u001b[0m\u001b[0minvalid\u001b[0m\u001b[1;33m=\u001b[0m\u001b[1;34m\"ignore\"\u001b[0m\u001b[1;33m)\u001b[0m\u001b[1;33m:\u001b[0m\u001b[1;33m\u001b[0m\u001b[1;33m\u001b[0m\u001b[0m\n\u001b[1;32m---> 71\u001b[1;33m                     \u001b[1;32mreturn\u001b[0m \u001b[0mf\u001b[0m\u001b[1;33m(\u001b[0m\u001b[1;33m*\u001b[0m\u001b[0margs\u001b[0m\u001b[1;33m,\u001b[0m \u001b[1;33m**\u001b[0m\u001b[0mkwargs\u001b[0m\u001b[1;33m)\u001b[0m\u001b[1;33m\u001b[0m\u001b[1;33m\u001b[0m\u001b[0m\n\u001b[0m\u001b[0;32m     72\u001b[0m             \u001b[1;32mexcept\u001b[0m \u001b[0mValueError\u001b[0m \u001b[1;32mas\u001b[0m \u001b[0me\u001b[0m\u001b[1;33m:\u001b[0m\u001b[1;33m\u001b[0m\u001b[1;33m\u001b[0m\u001b[0m\n\u001b[0;32m     73\u001b[0m                 \u001b[1;31m# we want to transform an object array\u001b[0m\u001b[1;33m\u001b[0m\u001b[1;33m\u001b[0m\u001b[1;33m\u001b[0m\u001b[0m\n",
      "\u001b[1;32mc:\\Users\\ysavchenko\\AppData\\Local\\Programs\\Python\\Python36\\lib\\site-packages\\pandas\\core\\nanops.py\u001b[0m in \u001b[0;36mf\u001b[1;34m(values, axis, skipna, **kwds)\u001b[0m\n\u001b[0;32m    127\u001b[0m                     \u001b[0mresult\u001b[0m \u001b[1;33m=\u001b[0m \u001b[0malt\u001b[0m\u001b[1;33m(\u001b[0m\u001b[0mvalues\u001b[0m\u001b[1;33m,\u001b[0m \u001b[0maxis\u001b[0m\u001b[1;33m=\u001b[0m\u001b[0maxis\u001b[0m\u001b[1;33m,\u001b[0m \u001b[0mskipna\u001b[0m\u001b[1;33m=\u001b[0m\u001b[0mskipna\u001b[0m\u001b[1;33m,\u001b[0m \u001b[1;33m**\u001b[0m\u001b[0mkwds\u001b[0m\u001b[1;33m)\u001b[0m\u001b[1;33m\u001b[0m\u001b[1;33m\u001b[0m\u001b[0m\n\u001b[0;32m    128\u001b[0m             \u001b[1;32melse\u001b[0m\u001b[1;33m:\u001b[0m\u001b[1;33m\u001b[0m\u001b[1;33m\u001b[0m\u001b[0m\n\u001b[1;32m--> 129\u001b[1;33m                 \u001b[0mresult\u001b[0m \u001b[1;33m=\u001b[0m \u001b[0malt\u001b[0m\u001b[1;33m(\u001b[0m\u001b[0mvalues\u001b[0m\u001b[1;33m,\u001b[0m \u001b[0maxis\u001b[0m\u001b[1;33m=\u001b[0m\u001b[0maxis\u001b[0m\u001b[1;33m,\u001b[0m \u001b[0mskipna\u001b[0m\u001b[1;33m=\u001b[0m\u001b[0mskipna\u001b[0m\u001b[1;33m,\u001b[0m \u001b[1;33m**\u001b[0m\u001b[0mkwds\u001b[0m\u001b[1;33m)\u001b[0m\u001b[1;33m\u001b[0m\u001b[1;33m\u001b[0m\u001b[0m\n\u001b[0m\u001b[0;32m    130\u001b[0m \u001b[1;33m\u001b[0m\u001b[0m\n\u001b[0;32m    131\u001b[0m             \u001b[1;32mreturn\u001b[0m \u001b[0mresult\u001b[0m\u001b[1;33m\u001b[0m\u001b[1;33m\u001b[0m\u001b[0m\n",
      "\u001b[1;32mc:\\Users\\ysavchenko\\AppData\\Local\\Programs\\Python\\Python36\\lib\\site-packages\\pandas\\core\\nanops.py\u001b[0m in \u001b[0;36mnanmean\u001b[1;34m(values, axis, skipna, mask)\u001b[0m\n\u001b[0;32m    561\u001b[0m         \u001b[0mdtype_count\u001b[0m \u001b[1;33m=\u001b[0m \u001b[0mdtype\u001b[0m\u001b[1;33m\u001b[0m\u001b[1;33m\u001b[0m\u001b[0m\n\u001b[0;32m    562\u001b[0m     \u001b[0mcount\u001b[0m \u001b[1;33m=\u001b[0m \u001b[0m_get_counts\u001b[0m\u001b[1;33m(\u001b[0m\u001b[0mvalues\u001b[0m\u001b[1;33m.\u001b[0m\u001b[0mshape\u001b[0m\u001b[1;33m,\u001b[0m \u001b[0mmask\u001b[0m\u001b[1;33m,\u001b[0m \u001b[0maxis\u001b[0m\u001b[1;33m,\u001b[0m \u001b[0mdtype\u001b[0m\u001b[1;33m=\u001b[0m\u001b[0mdtype_count\u001b[0m\u001b[1;33m)\u001b[0m\u001b[1;33m\u001b[0m\u001b[1;33m\u001b[0m\u001b[0m\n\u001b[1;32m--> 563\u001b[1;33m     \u001b[0mthe_sum\u001b[0m \u001b[1;33m=\u001b[0m \u001b[0m_ensure_numeric\u001b[0m\u001b[1;33m(\u001b[0m\u001b[0mvalues\u001b[0m\u001b[1;33m.\u001b[0m\u001b[0msum\u001b[0m\u001b[1;33m(\u001b[0m\u001b[0maxis\u001b[0m\u001b[1;33m,\u001b[0m \u001b[0mdtype\u001b[0m\u001b[1;33m=\u001b[0m\u001b[0mdtype_sum\u001b[0m\u001b[1;33m)\u001b[0m\u001b[1;33m)\u001b[0m\u001b[1;33m\u001b[0m\u001b[1;33m\u001b[0m\u001b[0m\n\u001b[0m\u001b[0;32m    564\u001b[0m \u001b[1;33m\u001b[0m\u001b[0m\n\u001b[0;32m    565\u001b[0m     \u001b[1;32mif\u001b[0m \u001b[0maxis\u001b[0m \u001b[1;32mis\u001b[0m \u001b[1;32mnot\u001b[0m \u001b[1;32mNone\u001b[0m \u001b[1;32mand\u001b[0m \u001b[0mgetattr\u001b[0m\u001b[1;33m(\u001b[0m\u001b[0mthe_sum\u001b[0m\u001b[1;33m,\u001b[0m \u001b[1;34m\"ndim\"\u001b[0m\u001b[1;33m,\u001b[0m \u001b[1;32mFalse\u001b[0m\u001b[1;33m)\u001b[0m\u001b[1;33m:\u001b[0m\u001b[1;33m\u001b[0m\u001b[1;33m\u001b[0m\u001b[0m\n",
      "\u001b[1;32mc:\\Users\\ysavchenko\\AppData\\Local\\Programs\\Python\\Python36\\lib\\site-packages\\pandas\\core\\nanops.py\u001b[0m in \u001b[0;36m_ensure_numeric\u001b[1;34m(x)\u001b[0m\n\u001b[0;32m   1432\u001b[0m             \u001b[1;32mexcept\u001b[0m \u001b[0mValueError\u001b[0m \u001b[1;32mas\u001b[0m \u001b[0merr\u001b[0m\u001b[1;33m:\u001b[0m\u001b[1;33m\u001b[0m\u001b[1;33m\u001b[0m\u001b[0m\n\u001b[0;32m   1433\u001b[0m                 \u001b[1;31m# e.g. \"foo\"\u001b[0m\u001b[1;33m\u001b[0m\u001b[1;33m\u001b[0m\u001b[1;33m\u001b[0m\u001b[0m\n\u001b[1;32m-> 1434\u001b[1;33m                 \u001b[1;32mraise\u001b[0m \u001b[0mTypeError\u001b[0m\u001b[1;33m(\u001b[0m\u001b[1;34mf\"Could not convert {x} to numeric\"\u001b[0m\u001b[1;33m)\u001b[0m \u001b[1;32mfrom\u001b[0m \u001b[0merr\u001b[0m\u001b[1;33m\u001b[0m\u001b[1;33m\u001b[0m\u001b[0m\n\u001b[0m\u001b[0;32m   1435\u001b[0m     \u001b[1;32mreturn\u001b[0m \u001b[0mx\u001b[0m\u001b[1;33m\u001b[0m\u001b[1;33m\u001b[0m\u001b[0m\n\u001b[0;32m   1436\u001b[0m \u001b[1;33m\u001b[0m\u001b[0m\n",
      "\u001b[1;31mTypeError\u001b[0m: Could not convert —7.610.17.1—7.910.46.88.88.06.8—8.77.18.86.510.76.07.66.88.17.96.49.26.111.0—8.1 to numeric"
     ]
    }
   ],
   "source": [
    "avg = data['2019'].mean()\n",
    "result_avg = data.loc[data['2019'] > avg]"
   ]
  },
  {
   "cell_type": "code",
   "execution_count": null,
   "metadata": {},
   "outputs": [
    {
     "name": "stdout",
     "output_type": "stream",
     "text": [
      "               Регіон  1950  1960  1970  1990  2000  2012  2014  2019\n",
      "0                Крим  23.0  20.6  16.0  13.0   7.3  12.6     —     —\n",
      "1           Вінницька  22.4  19.2  14.2  12.4   8.4  11.2  10.9   7.6\n",
      "2           Волинська  24.7  25.0  17.9  15.3  11.2  14.8  14.1  10.1\n",
      "3    Дніпропетровська  20.4  20.4  15.1  12.3   7.1  11.2  11.1   7.1\n",
      "4            Донецька  27.1  21.4  14.0  10.9   6.1   9.8   8.2     —\n",
      "5         Житомирська  26.1  22.3  15.9  12.9   8.9  12.2  12.0   7.9\n",
      "6        Закарпатська  31.4  27.3  20.7  16.8  11.5  15.1  14.6  10.4\n",
      "7          Запорізька  21.9  19.7  15.0  12.4   7.1  10.6  10.6   6.8\n",
      "8   Івано-Франківська  24.3  24.8  18.2  15.5  10.3  12.4  12.2   8.8\n",
      "9            Київська  20.4  18.9  15.6  12.3   7.3  12.2  12.1   8.0\n",
      "10     Кіровоградська  21.6  17.1  14.5  12.6   7.9  11.0  10.8   6.8\n",
      "11          Луганська  26.2  23.5  14.4  11.6   6.2   9.6   5.1     —\n",
      "12          Львівська  23.4  24.0  17.1  14.0   9.1  11.9  11.9   8.7\n",
      "13       Миколаївська  21.1  19.4  15.5  13.7   8.0  11.5  11.2   7.1\n",
      "14            Одеська  24.1  19.2  14.8  12.6   8.0  12.7  12.3   8.8\n",
      "15         Полтавська  18.6  16.3  13.1  11.8   7.0   9.9  10.0   6.5\n",
      "16         Рівненська  26.9  26.7  19.3  15.8  11.8  15.9  14.8  10.7\n",
      "17            Сумська  21.6  18.4  13.2  11.5   7.0   9.7   9.2   6.0\n",
      "18      Тернопільська  21.3  21.6  15.7  14.2   9.2  11.3  10.9   7.6\n",
      "19         Харківська  19.7  17.3  14.0  11.4   6.8   9.9  10.1   6.8\n",
      "20         Херсонська  20.8  21.4  16.6  14.3   8.5  11.7  11.5   8.1\n",
      "21        Хмельницька  23.4  19.8  14.8  12.9   8.5  11.3  11.2   7.9\n",
      "22          Черкаська  20.5  17.9  14.4  12.3   7.5  10.0   9.8   6.4\n",
      "23        Чернівецька  24.7  21.8  17.0  14.8  10.1  12.8  12.9   9.2\n",
      "24       Чернігівська  22.0  18.3  12.7  10.8   6.9   9.4   9.0   6.1\n",
      "25               Київ   NaN  17.4  15.9  12.0   7.3  12.0  12.1  11.0\n",
      "26        Севастополь   NaN   NaN   NaN  12.5   7.0  12.0     —     —\n",
      "27            Україна  22.8  20.5  15.2  12.6   7.8  11.4  11.1   8.1\n"
     ]
    }
   ],
   "source": [
    "print(data)"
   ]
  },
  {
   "cell_type": "code",
   "execution_count": null,
   "metadata": {},
   "outputs": [
    {
     "name": "stdout",
     "output_type": "stream",
     "text": [
      "             Регіон  1950  1960  1970  1990  2000  2012  2014  2019\n",
      "0              Крим  23.0  20.6  16.0  13.0   7.3  12.6     —     —\n",
      "1         Вінницька  22.4  19.2  14.2  12.4   8.4  11.2  10.9   7.6\n",
      "2         Волинська  24.7  25.0  17.9  15.3  11.2  14.8  14.1  10.1\n",
      "3  Дніпропетровська  20.4  20.4  15.1  12.3   7.1  11.2  11.1   7.1\n",
      "4          Донецька  27.1  21.4  14.0  10.9   6.1   9.8   8.2     —\n"
     ]
    }
   ],
   "source": [
    "print(data.head())"
   ]
  },
  {
   "cell_type": "code",
   "execution_count": null,
   "metadata": {},
   "outputs": [
    {
     "name": "stdout",
     "output_type": "stream",
     "text": [
      "(28, 9)\n"
     ]
    }
   ],
   "source": [
    "print(data_frame.shape)"
   ]
  },
  {
   "cell_type": "code",
   "execution_count": null,
   "metadata": {},
   "outputs": [
    {
     "name": "stdout",
     "output_type": "stream",
     "text": [
      "               Регіон  1950  1960  1970  1990  2000  2012  2014  2019\n",
      "0                Крим  23.0  20.6  16.0  13.0   7.3  12.6   NaN   NaN\n",
      "1           Вінницька  22.4  19.2  14.2  12.4   8.4  11.2  10.9   7.6\n",
      "2           Волинська  24.7  25.0  17.9  15.3  11.2  14.8  14.1  10.1\n",
      "3    Дніпропетровська  20.4  20.4  15.1  12.3   7.1  11.2  11.1   7.1\n",
      "4            Донецька  27.1  21.4  14.0  10.9   6.1   9.8   8.2   NaN\n",
      "5         Житомирська  26.1  22.3  15.9  12.9   8.9  12.2  12.0   7.9\n",
      "6        Закарпатська  31.4  27.3  20.7  16.8  11.5  15.1  14.6  10.4\n",
      "7          Запорізька  21.9  19.7  15.0  12.4   7.1  10.6  10.6   6.8\n",
      "8   Івано-Франківська  24.3  24.8  18.2  15.5  10.3  12.4  12.2   8.8\n",
      "9            Київська  20.4  18.9  15.6  12.3   7.3  12.2  12.1   8.0\n",
      "10     Кіровоградська  21.6  17.1  14.5  12.6   7.9  11.0  10.8   6.8\n",
      "11          Луганська  26.2  23.5  14.4  11.6   6.2   9.6   5.1   NaN\n",
      "12          Львівська  23.4  24.0  17.1  14.0   9.1  11.9  11.9   8.7\n",
      "13       Миколаївська  21.1  19.4  15.5  13.7   8.0  11.5  11.2   7.1\n",
      "14            Одеська  24.1  19.2  14.8  12.6   8.0  12.7  12.3   8.8\n",
      "15         Полтавська  18.6  16.3  13.1  11.8   7.0   9.9  10.0   6.5\n",
      "16         Рівненська  26.9  26.7  19.3  15.8  11.8  15.9  14.8  10.7\n",
      "17            Сумська  21.6  18.4  13.2  11.5   7.0   9.7   9.2   6.0\n",
      "18      Тернопільська  21.3  21.6  15.7  14.2   9.2  11.3  10.9   7.6\n",
      "19         Харківська  19.7  17.3  14.0  11.4   6.8   9.9  10.1   6.8\n",
      "20         Херсонська  20.8  21.4  16.6  14.3   8.5  11.7  11.5   8.1\n",
      "21        Хмельницька  23.4  19.8  14.8  12.9   8.5  11.3  11.2   7.9\n",
      "22          Черкаська  20.5  17.9  14.4  12.3   7.5  10.0   9.8   6.4\n",
      "23        Чернівецька  24.7  21.8  17.0  14.8  10.1  12.8  12.9   9.2\n",
      "24       Чернігівська  22.0  18.3  12.7  10.8   6.9   9.4   9.0   6.1\n",
      "25               Київ   NaN  17.4  15.9  12.0   7.3  12.0  12.1  11.0\n",
      "26        Севастополь   NaN   NaN   NaN  12.5   7.0  12.0   NaN   NaN\n",
      "27            Україна  22.8  20.5  15.2  12.6   7.8  11.4  11.1   8.1\n"
     ]
    }
   ],
   "source": [
    "print(data_nan)"
   ]
  },
  {
   "cell_type": "code",
   "execution_count": null,
   "metadata": {},
   "outputs": [
    {
     "name": "stdout",
     "output_type": "stream",
     "text": [
      "Регіон     object\n",
      "1950      float64\n",
      "1960      float64\n",
      "1970      float64\n",
      "1990      float64\n",
      "2000      float64\n",
      "2012      float64\n",
      "2014       object\n",
      "2019       object\n",
      "dtype: object\n"
     ]
    }
   ],
   "source": [
    "print(data_frame.dtypes)"
   ]
  },
  {
   "cell_type": "code",
   "execution_count": null,
   "metadata": {},
   "outputs": [
    {
     "name": "stdout",
     "output_type": "stream",
     "text": [
      "               Регіон  1950  1960  1970  1990  2000  2012  2014  2019\n",
      "0                Крим  23.0  20.6  16.0  13.0   7.3  12.6     0     0\n",
      "1           Вінницька  22.4  19.2  14.2  12.4   8.4  11.2  10.9   7.6\n",
      "2           Волинська  24.7  25.0  17.9  15.3  11.2  14.8  14.1  10.1\n",
      "3    Дніпропетровська  20.4  20.4  15.1  12.3   7.1  11.2  11.1   7.1\n",
      "4            Донецька  27.1  21.4  14.0  10.9   6.1   9.8   8.2     0\n",
      "5         Житомирська  26.1  22.3  15.9  12.9   8.9  12.2  12.0   7.9\n",
      "6        Закарпатська  31.4  27.3  20.7  16.8  11.5  15.1  14.6  10.4\n",
      "7          Запорізька  21.9  19.7  15.0  12.4   7.1  10.6  10.6   6.8\n",
      "8   Івано-Франківська  24.3  24.8  18.2  15.5  10.3  12.4  12.2   8.8\n",
      "9            Київська  20.4  18.9  15.6  12.3   7.3  12.2  12.1   8.0\n",
      "10     Кіровоградська  21.6  17.1  14.5  12.6   7.9  11.0  10.8   6.8\n",
      "11          Луганська  26.2  23.5  14.4  11.6   6.2   9.6   5.1     0\n",
      "12          Львівська  23.4  24.0  17.1  14.0   9.1  11.9  11.9   8.7\n",
      "13       Миколаївська  21.1  19.4  15.5  13.7   8.0  11.5  11.2   7.1\n",
      "14            Одеська  24.1  19.2  14.8  12.6   8.0  12.7  12.3   8.8\n",
      "15         Полтавська  18.6  16.3  13.1  11.8   7.0   9.9  10.0   6.5\n",
      "16         Рівненська  26.9  26.7  19.3  15.8  11.8  15.9  14.8  10.7\n",
      "17            Сумська  21.6  18.4  13.2  11.5   7.0   9.7   9.2   6.0\n",
      "18      Тернопільська  21.3  21.6  15.7  14.2   9.2  11.3  10.9   7.6\n",
      "19         Харківська  19.7  17.3  14.0  11.4   6.8   9.9  10.1   6.8\n",
      "20         Херсонська  20.8  21.4  16.6  14.3   8.5  11.7  11.5   8.1\n",
      "21        Хмельницька  23.4  19.8  14.8  12.9   8.5  11.3  11.2   7.9\n",
      "22          Черкаська  20.5  17.9  14.4  12.3   7.5  10.0   9.8   6.4\n",
      "23        Чернівецька  24.7  21.8  17.0  14.8  10.1  12.8  12.9   9.2\n",
      "24       Чернігівська  22.0  18.3  12.7  10.8   6.9   9.4   9.0   6.1\n",
      "25               Київ   NaN  17.4  15.9  12.0   7.3  12.0  12.1  11.0\n",
      "26        Севастополь   NaN   NaN   NaN  12.5   7.0  12.0     0     0\n",
      "27            Україна  22.8  20.5  15.2  12.6   7.8  11.4  11.1   8.1\n"
     ]
    }
   ],
   "source": [
    "print(data_number)"
   ]
  },
  {
   "cell_type": "code",
   "execution_count": null,
   "metadata": {},
   "outputs": [
    {
     "name": "stdout",
     "output_type": "stream",
     "text": [
      "Регіон    0.000000\n",
      "1950      0.071429\n",
      "1960      0.035714\n",
      "1970      0.035714\n",
      "1990      0.000000\n",
      "2000      0.000000\n",
      "2012      0.000000\n",
      "2014      0.000000\n",
      "2019      0.000000\n",
      "dtype: float64\n"
     ]
    }
   ],
   "source": [
    "print(data_isnull)"
   ]
  },
  {
   "cell_type": "code",
   "execution_count": null,
   "metadata": {},
   "outputs": [
    {
     "name": "stdout",
     "output_type": "stream",
     "text": [
      "               Регіон  1950  1960  1970  1990  2000  2012  2014  2019\n",
      "0                Крим  23.0  20.6  16.0  13.0   7.3  12.6     0     0\n",
      "1           Вінницька  22.4  19.2  14.2  12.4   8.4  11.2  10.9   7.6\n",
      "2           Волинська  24.7  25.0  17.9  15.3  11.2  14.8  14.1  10.1\n",
      "3    Дніпропетровська  20.4  20.4  15.1  12.3   7.1  11.2  11.1   7.1\n",
      "4            Донецька  27.1  21.4  14.0  10.9   6.1   9.8   8.2     0\n",
      "5         Житомирська  26.1  22.3  15.9  12.9   8.9  12.2  12.0   7.9\n",
      "6        Закарпатська  31.4  27.3  20.7  16.8  11.5  15.1  14.6  10.4\n",
      "7          Запорізька  21.9  19.7  15.0  12.4   7.1  10.6  10.6   6.8\n",
      "8   Івано-Франківська  24.3  24.8  18.2  15.5  10.3  12.4  12.2   8.8\n",
      "9            Київська  20.4  18.9  15.6  12.3   7.3  12.2  12.1   8.0\n",
      "10     Кіровоградська  21.6  17.1  14.5  12.6   7.9  11.0  10.8   6.8\n",
      "11          Луганська  26.2  23.5  14.4  11.6   6.2   9.6   5.1     0\n",
      "12          Львівська  23.4  24.0  17.1  14.0   9.1  11.9  11.9   8.7\n",
      "13       Миколаївська  21.1  19.4  15.5  13.7   8.0  11.5  11.2   7.1\n",
      "14            Одеська  24.1  19.2  14.8  12.6   8.0  12.7  12.3   8.8\n",
      "15         Полтавська  18.6  16.3  13.1  11.8   7.0   9.9  10.0   6.5\n",
      "16         Рівненська  26.9  26.7  19.3  15.8  11.8  15.9  14.8  10.7\n",
      "17            Сумська  21.6  18.4  13.2  11.5   7.0   9.7   9.2   6.0\n",
      "18      Тернопільська  21.3  21.6  15.7  14.2   9.2  11.3  10.9   7.6\n",
      "19         Харківська  19.7  17.3  14.0  11.4   6.8   9.9  10.1   6.8\n",
      "20         Херсонська  20.8  21.4  16.6  14.3   8.5  11.7  11.5   8.1\n",
      "21        Хмельницька  23.4  19.8  14.8  12.9   8.5  11.3  11.2   7.9\n",
      "22          Черкаська  20.5  17.9  14.4  12.3   7.5  10.0   9.8   6.4\n",
      "23        Чернівецька  24.7  21.8  17.0  14.8  10.1  12.8  12.9   9.2\n",
      "24       Чернігівська  22.0  18.3  12.7  10.8   6.9   9.4   9.0   6.1\n",
      "25               Київ   NaN  17.4  15.9  12.0   7.3  12.0  12.1  11.0\n",
      "26        Севастополь   NaN   NaN   NaN  12.5   7.0  12.0     0     0\n"
     ]
    }
   ],
   "source": [
    "print(data_total_delete)"
   ]
  },
  {
   "cell_type": "code",
   "execution_count": null,
   "metadata": {},
   "outputs": [
    {
     "name": "stdout",
     "output_type": "stream",
     "text": [
      "               Регіон    1950       1960  1970  1990  2000  2012  2014  2019\n",
      "0                Крим  23.000  20.600000  16.0  13.0   7.3  12.6     0     0\n",
      "1           Вінницька  22.400  19.200000  14.2  12.4   8.4  11.2  10.9   7.6\n",
      "2           Волинська  24.700  25.000000  17.9  15.3  11.2  14.8  14.1  10.1\n",
      "3    Дніпропетровська  20.400  20.400000  15.1  12.3   7.1  11.2  11.1   7.1\n",
      "4            Донецька  27.100  21.400000  14.0  10.9   6.1   9.8   8.2     0\n",
      "5         Житомирська  26.100  22.300000  15.9  12.9   8.9  12.2  12.0   7.9\n",
      "6        Закарпатська  31.400  27.300000  20.7  16.8  11.5  15.1  14.6  10.4\n",
      "7          Запорізька  21.900  19.700000  15.0  12.4   7.1  10.6  10.6   6.8\n",
      "8   Івано-Франківська  24.300  24.800000  18.2  15.5  10.3  12.4  12.2   8.8\n",
      "9            Київська  20.400  18.900000  15.6  12.3   7.3  12.2  12.1   8.0\n",
      "10     Кіровоградська  21.600  17.100000  14.5  12.6   7.9  11.0  10.8   6.8\n",
      "11          Луганська  26.200  23.500000  14.4  11.6   6.2   9.6   5.1     0\n",
      "12          Львівська  23.400  24.000000  17.1  14.0   9.1  11.9  11.9   8.7\n",
      "13       Миколаївська  21.100  19.400000  15.5  13.7   8.0  11.5  11.2   7.1\n",
      "14            Одеська  24.100  19.200000  14.8  12.6   8.0  12.7  12.3   8.8\n",
      "15         Полтавська  18.600  16.300000  13.1  11.8   7.0   9.9  10.0   6.5\n",
      "16         Рівненська  26.900  26.700000  19.3  15.8  11.8  15.9  14.8  10.7\n",
      "17            Сумська  21.600  18.400000  13.2  11.5   7.0   9.7   9.2   6.0\n",
      "18      Тернопільська  21.300  21.600000  15.7  14.2   9.2  11.3  10.9   7.6\n",
      "19         Харківська  19.700  17.300000  14.0  11.4   6.8   9.9  10.1   6.8\n",
      "20         Херсонська  20.800  21.400000  16.6  14.3   8.5  11.7  11.5   8.1\n",
      "21        Хмельницька  23.400  19.800000  14.8  12.9   8.5  11.3  11.2   7.9\n",
      "22          Черкаська  20.500  17.900000  14.4  12.3   7.5  10.0   9.8   6.4\n",
      "23        Чернівецька  24.700  21.800000  17.0  14.8  10.1  12.8  12.9   9.2\n",
      "24       Чернігівська  22.000  18.300000  12.7  10.8   6.9   9.4   9.0   6.1\n",
      "25               Київ  23.104  17.400000  15.9  12.0   7.3  12.0  12.1  11.0\n",
      "26        Севастополь  23.104  20.757692  15.6  12.5   7.0  12.0     0     0\n"
     ]
    }
   ],
   "source": [
    "print(data_mean)"
   ]
  },
  {
   "cell_type": "code",
   "execution_count": null,
   "metadata": {},
   "outputs": [
    {
     "ename": "NameError",
     "evalue": "name 'result_avg' is not defined",
     "output_type": "error",
     "traceback": [
      "\u001b[1;31m---------------------------------------------------------------------------\u001b[0m",
      "\u001b[1;31mNameError\u001b[0m                                 Traceback (most recent call last)",
      "\u001b[1;32m<ipython-input-48-ef5951d69db1>\u001b[0m in \u001b[0;36m<module>\u001b[1;34m\u001b[0m\n\u001b[1;32m----> 1\u001b[1;33m \u001b[0mprint\u001b[0m\u001b[1;33m(\u001b[0m\u001b[0mresult_avg\u001b[0m\u001b[1;33m)\u001b[0m\u001b[1;33m\u001b[0m\u001b[1;33m\u001b[0m\u001b[0m\n\u001b[0m",
      "\u001b[1;31mNameError\u001b[0m: name 'result_avg' is not defined"
     ]
    }
   ],
   "source": [
    "print(result_avg)"
   ]
  }
 ],
 "metadata": {
  "kernelspec": {
   "display_name": "Python 3",
   "language": "python",
   "name": "python3"
  },
  "language_info": {
   "codemirror_mode": {
    "name": "ipython",
    "version": 3
   },
   "file_extension": ".py",
   "mimetype": "text/x-python",
   "name": "python",
   "nbconvert_exporter": "python",
   "pygments_lexer": "ipython3",
   "version": "3.6.8"
  }
 },
 "nbformat": 4,
 "nbformat_minor": 2
}
