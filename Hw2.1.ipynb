{
 "cells": [
  {
   "cell_type": "code",
   "execution_count": null,
   "metadata": {},
   "outputs": [],
   "source": [
    "import pandas as pd"
   ]
  },
  {
   "cell_type": "code",
   "execution_count": null,
   "metadata": {},
   "outputs": [],
   "source": [
    "url = 'https://uk.wikipedia.org/wiki/%D0%9D%D0%B0%D1%81%D0%B5%D0%BB%D0%B5%D0%BD%D0%BD%D1%8F_%D0%A3%D0%BA%D1%80%D0%B0%D1%97%D0%BD%D0%B8#%D0%9D%D0%B0%D1%80%D0%BE%D0%B4%D0%B6%D1%83%D0%B2%D0%B0%D0%BD%D1%96%D1%81%D1%82%D1%8C'\n",
    "data = pd.read_html(url, match='Коефіцієнт народжуваності в регіонах України', thousands=\".\", decimal=\",\")[0]\n",
    "print(data)"
   ]
  },
  {
   "cell_type": "code",
   "execution_count": null,
   "metadata": {},
   "outputs": [],
   "source": [
    "# Вивести перші рядки таблиці за допомогою методу head\n",
    "print(data.head())"
   ]
  },
  {
   "cell_type": "code",
   "execution_count": null,
   "metadata": {},
   "outputs": [],
   "source": [
    "# Визначте кількість рядків та стовпців у датафреймі (атрибут shape)\n",
    "data_frame = pd.DataFrame(data)\n",
    "print(data_frame.shape)"
   ]
  },
  {
   "cell_type": "code",
   "execution_count": null,
   "metadata": {},
   "outputs": [],
   "source": [
    "# Замініть у таблиці значення \"—\" на значення NaN\n",
    "data_nan = data_frame.replace(to_replace=r'—', value='NaN', regex=True)\n",
    "print(data_nan)"
   ]
  },
  {
   "cell_type": "code",
   "execution_count": null,
   "metadata": {},
   "outputs": [],
   "source": [
    "# Визначте типи всіх стовпців за допомогою dataframe.dtypes\n",
    "data.dtypes"
   ]
  },
  {
   "cell_type": "code",
   "execution_count": null,
   "metadata": {},
   "outputs": [],
   "source": [
    "# Замініть типи нечислових колонок на числові. Підказка - це колонки, де знаходився символ \"—\"\n",
    "data_number = data_frame.replace(to_replace=r'—', value=0, regex=True)\n",
    "print(data_number)"
   ]
  },
  {
   "cell_type": "code",
   "execution_count": null,
   "metadata": {},
   "outputs": [],
   "source": [
    "# Порахуйте, яка частка пропусків міститься в кожній колонці (використовуйте методи isnull та sum)\n",
    "data_isnull = data.isnull().sum() / len(data)\n",
    "print(data_isnull)"
   ]
  },
  {
   "cell_type": "code",
   "execution_count": null,
   "metadata": {},
   "outputs": [],
   "source": [
    "# Видаліть з таблиці дані по всій країні, останній рядок таблиці\n",
    "data_total_delete = data_number.drop(index=data_number.index[-1])\n",
    "print(data_total_delete)"
   ]
  },
  {
   "cell_type": "code",
   "execution_count": null,
   "metadata": {},
   "outputs": [],
   "source": [
    "# Замініть відсутні дані в стовпцях середніми значеннями цих стовпців (метод fillna)\n",
    "data_mean = data_total_delete.fillna(data_total_delete.mean())\n",
    "print(data_mean)"
   ]
  },
  {
   "cell_type": "code",
   "execution_count": null,
   "metadata": {},
   "outputs": [],
   "source": [
    "# Отримайте список регіонів, де рівень народжуваності у 2019 році був вищим за середній по Україні\n",
    "avg = data['2019'].mean()\n",
    "data.loc[data['2019'] > avg]\n"
   ]
  },
  {
   "cell_type": "code",
   "execution_count": null,
   "metadata": {},
   "outputs": [],
   "source": [
    "# У якому регіоні була найвища народжуваність у 2014 році?\n"
   ]
  },
  {
   "cell_type": "code",
   "execution_count": null,
   "metadata": {},
   "outputs": [],
   "source": [
    "# Побудуйте стовпчикову діаграму народжуваності по регіонах у 2019 році\n"
   ]
  }
 ],
 "metadata": {
  "kernelspec": {
   "display_name": "Python 3",
   "language": "python",
   "name": "python3"
  },
  "language_info": {
   "codemirror_mode": {
    "name": "ipython",
    "version": 3
   },
   "file_extension": ".py",
   "mimetype": "text/x-python",
   "name": "python",
   "nbconvert_exporter": "python",
   "pygments_lexer": "ipython3",
   "version": "3.6.8"
  }
 },
 "nbformat": 4,
 "nbformat_minor": 2
}
