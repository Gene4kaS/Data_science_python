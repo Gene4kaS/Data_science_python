{
 "cells": [
  {
   "cell_type": "code",
   "execution_count": 3,
   "metadata": {},
   "outputs": [],
   "source": [
    "import pandas as pd\n",
    "import numpy as np\n",
    "import seaborn as sns\n",
    "import matplotlib.pyplot as plt"
   ]
  },
  {
   "cell_type": "code",
   "execution_count": 5,
   "metadata": {},
   "outputs": [
    {
     "data": {
      "text/html": [
       "<div>\n",
       "<style scoped>\n",
       "    .dataframe tbody tr th:only-of-type {\n",
       "        vertical-align: middle;\n",
       "    }\n",
       "\n",
       "    .dataframe tbody tr th {\n",
       "        vertical-align: top;\n",
       "    }\n",
       "\n",
       "    .dataframe thead th {\n",
       "        text-align: right;\n",
       "    }\n",
       "</style>\n",
       "<table border=\"1\" class=\"dataframe\">\n",
       "  <thead>\n",
       "    <tr style=\"text-align: right;\">\n",
       "      <th></th>\n",
       "      <th>Name</th>\n",
       "      <th>Author</th>\n",
       "      <th>User Rating</th>\n",
       "      <th>Reviews</th>\n",
       "      <th>Price</th>\n",
       "      <th>Year</th>\n",
       "      <th>Genre</th>\n",
       "    </tr>\n",
       "  </thead>\n",
       "  <tbody>\n",
       "    <tr>\n",
       "      <th>0</th>\n",
       "      <td>10-Day Green Smoothie Cleanse</td>\n",
       "      <td>JJ Smith</td>\n",
       "      <td>4.7</td>\n",
       "      <td>17350</td>\n",
       "      <td>8</td>\n",
       "      <td>2016</td>\n",
       "      <td>Non Fiction</td>\n",
       "    </tr>\n",
       "    <tr>\n",
       "      <th>1</th>\n",
       "      <td>11/22/63: A Novel</td>\n",
       "      <td>Stephen King</td>\n",
       "      <td>4.6</td>\n",
       "      <td>2052</td>\n",
       "      <td>22</td>\n",
       "      <td>2011</td>\n",
       "      <td>Fiction</td>\n",
       "    </tr>\n",
       "    <tr>\n",
       "      <th>2</th>\n",
       "      <td>12 Rules for Life: An Antidote to Chaos</td>\n",
       "      <td>Jordan B. Peterson</td>\n",
       "      <td>4.7</td>\n",
       "      <td>18979</td>\n",
       "      <td>15</td>\n",
       "      <td>2018</td>\n",
       "      <td>Non Fiction</td>\n",
       "    </tr>\n",
       "    <tr>\n",
       "      <th>3</th>\n",
       "      <td>1984 (Signet Classics)</td>\n",
       "      <td>George Orwell</td>\n",
       "      <td>4.7</td>\n",
       "      <td>21424</td>\n",
       "      <td>6</td>\n",
       "      <td>2017</td>\n",
       "      <td>Fiction</td>\n",
       "    </tr>\n",
       "    <tr>\n",
       "      <th>4</th>\n",
       "      <td>5,000 Awesome Facts (About Everything!) (Natio...</td>\n",
       "      <td>National Geographic Kids</td>\n",
       "      <td>4.8</td>\n",
       "      <td>7665</td>\n",
       "      <td>12</td>\n",
       "      <td>2019</td>\n",
       "      <td>Non Fiction</td>\n",
       "    </tr>\n",
       "  </tbody>\n",
       "</table>\n",
       "</div>"
      ],
      "text/plain": [
       "                                                Name  \\\n",
       "0                      10-Day Green Smoothie Cleanse   \n",
       "1                                  11/22/63: A Novel   \n",
       "2            12 Rules for Life: An Antidote to Chaos   \n",
       "3                             1984 (Signet Classics)   \n",
       "4  5,000 Awesome Facts (About Everything!) (Natio...   \n",
       "\n",
       "                     Author  User Rating  Reviews  Price  Year        Genre  \n",
       "0                  JJ Smith          4.7    17350      8  2016  Non Fiction  \n",
       "1              Stephen King          4.6     2052     22  2011      Fiction  \n",
       "2        Jordan B. Peterson          4.7    18979     15  2018  Non Fiction  \n",
       "3             George Orwell          4.7    21424      6  2017      Fiction  \n",
       "4  National Geographic Kids          4.8     7665     12  2019  Non Fiction  "
      ]
     },
     "execution_count": 5,
     "metadata": {},
     "output_type": "execute_result"
    }
   ],
   "source": [
    "# Прочитайте csv файл (використовуйте функцію read_csv)\n",
    "# Виведіть перші п'ять рядків (використовується функція head)\n",
    "data = pd.read_csv(\"bestsellers_with_categories.csv\")\n",
    "data.head(5)"
   ]
  },
  {
   "cell_type": "code",
   "execution_count": 6,
   "metadata": {},
   "outputs": [
    {
     "data": {
      "text/plain": [
       "(550, 7)"
      ]
     },
     "execution_count": 6,
     "metadata": {},
     "output_type": "execute_result"
    }
   ],
   "source": [
    "# Виведіть розміри датасету (використовуйте атрибут shape)\n",
    "data.shape"
   ]
  },
  {
   "cell_type": "code",
   "execution_count": 7,
   "metadata": {},
   "outputs": [],
   "source": [
    "data.columns = ['name', 'author', 'user_rating', 'reviews', 'price', 'year', 'genre']"
   ]
  },
  {
   "cell_type": "code",
   "execution_count": 8,
   "metadata": {},
   "outputs": [
    {
     "data": {
      "text/plain": [
       "name           0\n",
       "author         0\n",
       "user_rating    0\n",
       "reviews        0\n",
       "price          0\n",
       "year           0\n",
       "genre          0\n",
       "dtype: int64"
      ]
     },
     "execution_count": 8,
     "metadata": {},
     "output_type": "execute_result"
    }
   ],
   "source": [
    "# Перевірте, чи у всіх рядків вистачає даних: виведіть кількість пропусків (na) у кожному зі стовпців (використовуйте функції isna та sum)\n",
    "na_counts = data.isna().sum()\n",
    "na_counts\n",
    "# ні: Чи є в якихось змінних пропуски?"
   ]
  },
  {
   "cell_type": "code",
   "execution_count": 13,
   "metadata": {},
   "outputs": [
    {
     "name": "stdout",
     "output_type": "stream",
     "text": [
      "['Non Fiction' 'Fiction'] Які є унікальні жанри?\n"
     ]
    }
   ],
   "source": [
    "# Перевірте, які є унікальні значення в колонці genre (використовуйте функцію unique)\n",
    "unique_genres = data['genre'].unique()\n",
    "print(unique_genres, 'Які є унікальні жанри?')\n"
   ]
  },
  {
   "cell_type": "code",
   "execution_count": 10,
   "metadata": {},
   "outputs": [
    {
     "data": {
      "image/png": "[encoded data removed]",
      "text/plain": [
       "<Figure size 432x288 with 1 Axes>"
      ]
     },
     "metadata": {
      "needs_background": "light"
     },
     "output_type": "display_data"
    }
   ],
   "source": [
    "# Тепер подивіться на розподіл цін: побудуйте діаграму (використовуйте kind='hist')\n",
    "data['price'].plot(kind='hist', bins=10)\n",
    "plt.show()"
   ]
  },
  {
   "cell_type": "code",
   "execution_count": 12,
   "metadata": {},
   "outputs": [
    {
     "name": "stdout",
     "output_type": "stream",
     "text": [
      "Максимальна ціна:  105\n",
      "Мінімальна ціна:  0\n",
      "Середня ціна:  13.1\n",
      "Медіанна ціна:  11.0\n"
     ]
    }
   ],
   "source": [
    "# Визначте, яка ціна у нас максимальна, мінімальна, середня, медіанна (використовуйте функції max, min, mean, median)\n",
    "max_price = data['price'].max()\n",
    "min_price = data['price'].min()\n",
    "mean_price = data['price'].mean()\n",
    "median_price = data['price'].median()\n",
    "\n",
    "print('Максимальна ціна: ', max_price)\n",
    "print('Мінімальна ціна: ', min_price)\n",
    "print('Середня ціна: ', mean_price)\n",
    "print('Медіанна ціна: ', median_price)"
   ]
  },
  {
   "cell_type": "code",
   "execution_count": 14,
   "metadata": {},
   "outputs": [
    {
     "name": "stdout",
     "output_type": "stream",
     "text": [
      "Який рейтинг у датасеті найвищий?: 4.9\n"
     ]
    }
   ],
   "source": [
    "max_rating = data['user_rating'].max()\n",
    "print('Який рейтинг у датасеті найвищий?:', max_rating)"
   ]
  },
  {
   "cell_type": "code",
   "execution_count": 16,
   "metadata": {},
   "outputs": [
    {
     "name": "stdout",
     "output_type": "stream",
     "text": [
      "Кількість книг з рейтингом 4.9:  52\n"
     ]
    }
   ],
   "source": [
    "count_5_star = data['user_rating'].value_counts()[4.9]\n",
    "print('Кількість книг з рейтингом 4.9: ', count_5_star)"
   ]
  },
  {
   "cell_type": "code",
   "execution_count": 52,
   "metadata": {},
   "outputs": [
    {
     "name": "stdout",
     "output_type": "stream",
     "text": [
      "Книга з найбільшою кількістю відгуків:  Where the Crawdads Sing\n"
     ]
    }
   ],
   "source": [
    "max_reviews_index = data['reviews'].idxmax()\n",
    "book_with_max_reviews = data.loc[max_reviews_index, 'name']\n",
    "\n",
    "print('Книга з найбільшою кількістю відгуків: ', book_with_max_reviews)"
   ]
  },
  {
   "cell_type": "code",
   "execution_count": 51,
   "metadata": {},
   "outputs": [
    {
     "name": "stdout",
     "output_type": "stream",
     "text": [
      "З тих книг, що потрапили до Топ-50 у 2015 році, яка книга найдорожча: Catching Fire (The Hunger Games)\n"
     ]
    }
   ],
   "source": [
    "# Сортування книг за рейтінгом\n",
    "sorted_data = data.sort_values(by='user_rating', ascending=False)\n",
    "\n",
    "# Фільтрація книг, які потрапили до Топ-50 у 2015 році\n",
    "data_top_50 = sorted_data.loc[(data['year'] == 2015)]\n",
    "data_top_50.shape\n",
    "price_expensive = data_top_50['price'].max()\n",
    "name_book_exp = sorted_data.loc[price_expensive, 'name']\n",
    "\n",
    "print('З тих книг, що потрапили до Топ-50 у 2015 році, яка книга найдорожча:', name_book_exp)\n"
   ]
  },
  {
   "cell_type": "code",
   "execution_count": 63,
   "metadata": {},
   "outputs": [
    {
     "name": "stdout",
     "output_type": "stream",
     "text": [
      "Скільки книг жанру Fiction потрапили до Топ-50 у 2010 році: 20\n"
     ]
    }
   ],
   "source": [
    "data_top_50 = sorted_data.loc[(data['year'] == 2010) & (data['genre'] == 'Fiction')]\n",
    "print('Скільки книг жанру Fiction потрапили до Топ-50 у 2010 році:', len(data_top_50))\n"
   ]
  },
  {
   "cell_type": "code",
   "execution_count": 64,
   "metadata": {},
   "outputs": [
    {
     "name": "stdout",
     "output_type": "stream",
     "text": [
      "Кількість книг з рейтингом 4.9 у 2010 та 2011 роках:  1\n"
     ]
    }
   ],
   "source": [
    "filtered_data = data[(data['user_rating'] == 4.9) & (data['year'].isin([2010, 2011]))]\n",
    "print('Кількість книг з рейтингом 4.9 у 2010 та 2011 роках: ', len(filtered_data))"
   ]
  },
  {
   "cell_type": "code",
   "execution_count": 68,
   "metadata": {},
   "outputs": [
    {
     "name": "stdout",
     "output_type": "stream",
     "text": [
      "                                                  name              author  \\\n",
      "507                              To Kill a Mockingbird          Harper Lee   \n",
      "210                      Laugh-Out-Loud Jokes for Kids         Rob Elliott   \n",
      "206                         Knock-Knock Jokes for Kids         Rob Elliott   \n",
      "111                                    First 100 Words        Roger Priddy   \n",
      "123                               Giraffes Can't Dance       Giles Andreae   \n",
      "54   Creative Haven Creative Cats Coloring Book (Ad...     Marjorie Sarnat   \n",
      "63                      Dear Zoo: A Lift-the-Flap Book        Rod Campbell   \n",
      "89   Dover Creative Haven Art Nouveau Animal Design...         Marty Noble   \n",
      "478                        The Very Hungry Caterpillar          Eric Carle   \n",
      "201  Killing Reagan: The Violent Assault That Chang...       Bill O'Reilly   \n",
      "28                        Baby Touch and Feel: Animals                  DK   \n",
      "224                                   Love You Forever       Robert Munsch   \n",
      "55   Creative Haven Owls Coloring Book (Adult Color...     Marjorie Sarnat   \n",
      "17      Adult Coloring Book: Stress Relieving Patterns  Blue Star Coloring   \n",
      "376  The Four Agreements: A Practical Guide to Pers...     Don Miguel Ruiz   \n",
      "16   Adult Coloring Book: Stress Relieving Animal D...  Blue Star Coloring   \n",
      "253              Old School (Diary of a Wimpy Kid #10)         Jeff Kinney   \n",
      "\n",
      "     user_rating  reviews  price  year        genre  \n",
      "507          4.8    26234      0  2015      Fiction  \n",
      "210          4.6     6990      4  2015  Non Fiction  \n",
      "206          4.5     3673      4  2015  Non Fiction  \n",
      "111          4.7    17323      4  2015  Non Fiction  \n",
      "123          4.8    14038      4  2015      Fiction  \n",
      "54           4.8     4022      4  2015  Non Fiction  \n",
      "63           4.8    10922      5  2015      Fiction  \n",
      "89           4.6     2134      5  2015  Non Fiction  \n",
      "478          4.9    19546      5  2015      Fiction  \n",
      "201          4.6     5235      5  2015  Non Fiction  \n",
      "28           4.6     5360      5  2015  Non Fiction  \n",
      "224          4.8    18613      5  2015      Fiction  \n",
      "55           4.8     3871      5  2015  Non Fiction  \n",
      "17           4.4     2951      6  2015  Non Fiction  \n",
      "376          4.7    23308      6  2015  Non Fiction  \n",
      "16           4.6     2925      6  2015  Non Fiction  \n",
      "253          4.8     6169      7  2015      Fiction  \n",
      "Остання книга у відсортованому списку:  Old School (Diary of a Wimpy Kid #10)\n"
     ]
    }
   ],
   "source": [
    "# Відсортувати за зростанням ціни всі книги, які потрапили до рейтингу в 2015 році і коштують дешевше за 8 доларів (використовуйте функцію sort_values).\n",
    "filtered_data = data[(data['year'] == 2015) & (data['price'] < 8)]\n",
    "sorted_data = filtered_data.sort_values('price')\n",
    "last_book_name = sorted_data.iloc[-1]['name']\n",
    "print(sorted_data)\n",
    "print('Остання книга у відсортованому списку: ', last_book_name)"
   ]
  },
  {
   "cell_type": "code",
   "execution_count": 69,
   "metadata": {},
   "outputs": [
    {
     "name": "stdout",
     "output_type": "stream",
     "text": [
      "             max  min\n",
      "genre                \n",
      "Fiction       82    0\n",
      "Non Fiction  105    0\n"
     ]
    }
   ],
   "source": [
    "# Групування даних за жанром та визначення максимальних та мінімальних цін\n",
    "price_stats = data.groupby('genre')['price'].agg(['max', 'min'])\n",
    "\n",
    "# Виведення результату\n",
    "print(price_stats)"
   ]
  },
  {
   "cell_type": "code",
   "execution_count": 74,
   "metadata": {},
   "outputs": [
    {
     "name": "stdout",
     "output_type": "stream",
     "text": [
      "Максимальна ціна для жанру Fiction:  82\n",
      "Мінімальна ціна для жанру Fiction:  0\n",
      "Максимальна ціна для жанру Non Fiction:  105\n",
      "Мінімальна ціна для жанру Non Fiction:  0\n"
     ]
    }
   ],
   "source": [
    "fiction_max = price_stats.loc['Fiction', 'max']\n",
    "fiction_min = price_stats.loc['Fiction', 'min']\n",
    "non_fiction_max = price_stats.loc['Non Fiction', 'max']\n",
    "non_fiction_min = price_stats.loc['Non Fiction', 'min']\n",
    "\n",
    "print('Максимальна ціна для жанру Fiction: ', fiction_max)\n",
    "print('Мінімальна ціна для жанру Fiction: ', fiction_min)\n",
    "print('Максимальна ціна для жанру Non Fiction: ', non_fiction_max)\n",
    "print('Мінімальна ціна для жанру Non Fiction: ', non_fiction_min)"
   ]
  }
 ],
 "metadata": {
  "kernelspec": {
   "display_name": "Python 3",
   "language": "python",
   "name": "python3"
  },
  "language_info": {
   "codemirror_mode": {
    "name": "ipython",
    "version": 3
   },
   "file_extension": ".py",
   "mimetype": "text/x-python",
   "name": "python",
   "nbconvert_exporter": "python",
   "pygments_lexer": "ipython3",
   "version": "3.6.8"
  }
 },
 "nbformat": 4,
 "nbformat_minor": 2
}
