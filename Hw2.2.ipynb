{
 "cells": [
  {
   "cell_type": "code",
   "execution_count": 4,
   "metadata": {},
   "outputs": [
    {
     "name": "stdout",
     "output_type": "stream",
     "text": [
      "(8704, 25)\n"
     ]
    }
   ],
   "source": [
    "import pandas as pd\n",
    "\n",
    "data = pd.read_csv(\"2017_jun_final.csv\")\n",
    "data_frame = pd.DataFrame(data)\n",
    "data_isnull = data.isnull().sum() / len(data)\n",
    "data_cleaned = data.dropna(subset=data.columns.difference(['Язык.программирования']))\n",
    "data_cleaned_isnull = data_cleaned.isnull().sum() / len(data_cleaned)\n",
    "data_full_cleaned = data_cleaned.dropna(subset=data_cleaned.columns.difference(['Язык.программирования']))\n",
    "\n",
    "# print(data.head())\n",
    "# print(data_frame.shape)\n",
    "# print(data_frame.dtypes)\n",
    "# print(data_isnull)\n",
    "# print(data_cleaned)\n",
    "# print(data_cleaned_isnull)\n",
    "# print(data_full_cleaned)\n",
    "print(data_full_cleaned.shape)\n"
   ]
  }
 ],
 "metadata": {
  "kernelspec": {
   "display_name": "Python 3",
   "language": "python",
   "name": "python3"
  },
  "language_info": {
   "codemirror_mode": {
    "name": "ipython",
    "version": 3
   },
   "file_extension": ".py",
   "mimetype": "text/x-python",
   "name": "python",
   "nbconvert_exporter": "python",
   "pygments_lexer": "ipython3",
   "version": "3.10.5"
  }
 },
 "nbformat": 4,
 "nbformat_minor": 2
}
